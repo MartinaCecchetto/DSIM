{
  "nbformat": 4,
  "nbformat_minor": 0,
  "metadata": {
    "colab": {
      "name": "E05_Cecchetto_MartinaRoberta_852566.ipynb",
      "provenance": [],
      "toc_visible": true,
      "authorship_tag": "ABX9TyM6MYMOrfRq5NMCHaLp+7J0",
      "include_colab_link": true
    },
    "kernelspec": {
      "name": "python3",
      "display_name": "Python 3"
    },
    "accelerator": "GPU"
  },
  "cells": [
    {
      "cell_type": "markdown",
      "metadata": {
        "id": "view-in-github",
        "colab_type": "text"
      },
      "source": [
        "<a href=\"https://colab.research.google.com/github/MartinaCecchetto/DSIM/blob/main/Assignment4.ipynb\" target=\"_parent\"><img src=\"https://colab.research.google.com/assets/colab-badge.svg\" alt=\"Open In Colab\"/></a>"
      ]
    },
    {
      "cell_type": "markdown",
      "metadata": {
        "id": "aiZ9L1tf69QV"
      },
      "source": [
        "**Assignment**\n",
        "Define, train, and evaluate the following architecture on the MNIST dataset, and on the CIFAR10 dataset:\n",
        "\n",
        "* Explicit input layer\n",
        "* Convolution (2D) with 32 3$\\times$3 filters\n",
        "* ReLU\n",
        "* Max pooling (2D) with one 2$\\times$2 filter\n",
        "* Flattening\n",
        "* Fully-connected mapping to 128 dimensions\n",
        "* ReLU\n",
        "* Fully-connected mapping to the final problem size"
      ]
    },
    {
      "cell_type": "code",
      "metadata": {
        "id": "p9NP6sozzAEG"
      },
      "source": [
        "from tensorflow import keras\n",
        "import numpy as np\n",
        "from matplotlib import pyplot as plt\n",
        "from tensorflow.keras import layers\n",
        "from sklearn.metrics import classification_report, confusion_matrix"
      ],
      "execution_count": 34,
      "outputs": []
    },
    {
      "cell_type": "code",
      "metadata": {
        "id": "BI8B12ggzXHA"
      },
      "source": [
        "(x_train_mnist, y_train_mnist), (x_test_mnist, y_test_mnist) = keras.datasets.mnist.load_data()\n",
        "(x_train_cifar10, y_train_cifar10), (x_test_cifar10, y_test_cifar10) = keras.datasets.cifar10.load_data()"
      ],
      "execution_count": 35,
      "outputs": []
    },
    {
      "cell_type": "code",
      "metadata": {
        "colab": {
          "base_uri": "https://localhost:8080/"
        },
        "id": "396bGiLBzt3c",
        "outputId": "202bf352-594f-4889-cb53-18105ea44748"
      },
      "source": [
        "print(x_train_mnist.shape)\n",
        "print(x_train_cifar10.shape)"
      ],
      "execution_count": 36,
      "outputs": [
        {
          "output_type": "stream",
          "text": [
            "(60000, 28, 28)\n",
            "(50000, 32, 32, 3)\n"
          ],
          "name": "stdout"
        }
      ]
    },
    {
      "cell_type": "markdown",
      "metadata": {
        "id": "Cyye3lb2z6cg"
      },
      "source": [
        "* **MNIST** 60000 istanze ciascuna rappresentata con una immagine 28x28 pixel e un unico canale\n",
        "* **CIFAR10** 50000 istanze ciascuna rappresentata con una immagine 32x32 pixel e avente 3 canali (RGB)"
      ]
    },
    {
      "cell_type": "code",
      "metadata": {
        "colab": {
          "base_uri": "https://localhost:8080/",
          "height": 233
        },
        "id": "xMWBeNsE0QsW",
        "outputId": "bd016456-0ce1-4d37-b3f9-e820e2593ecc"
      },
      "source": [
        "plt.subplot(1,2,1);plt.imshow(x_train_mnist[0], cmap='gray');plt.title(\"MNIST\")\n",
        "plt.subplot(1,2,2);plt.imshow(x_train_mnist[0]);plt.title(\"CIFAR10\")"
      ],
      "execution_count": 37,
      "outputs": [
        {
          "output_type": "execute_result",
          "data": {
            "text/plain": [
              "Text(0.5, 1.0, 'CIFAR10')"
            ]
          },
          "metadata": {
            "tags": []
          },
          "execution_count": 37
        },
        {
          "output_type": "display_data",
          "data": {
            "image/png": "[encoded data removed]",
            "text/plain": [
              "<Figure size 432x288 with 2 Axes>"
            ]
          },
          "metadata": {
            "tags": [],
            "needs_background": "light"
          }
        }
      ]
    },
    {
      "cell_type": "markdown",
      "metadata": {
        "id": "TA9-DL1b1-3L"
      },
      "source": [
        "Aggiungo un'ulteriore dimensione (equivalente a quella del canale) a `x_train_mnist` e `x_test_mnist`"
      ]
    },
    {
      "cell_type": "code",
      "metadata": {
        "colab": {
          "base_uri": "https://localhost:8080/"
        },
        "id": "iOf9mJgf2LVn",
        "outputId": "9fd53171-5075-4bc3-887a-a91a8e931c2c"
      },
      "source": [
        "x_train_mnist = np.expand_dims(x_train_mnist, axis=-1)\n",
        "x_test_mnist = np.expand_dims(x_test_mnist, axis=-1)\n",
        "print(x_train_mnist.shape)\n",
        "print(x_test_mnist.shape)"
      ],
      "execution_count": 38,
      "outputs": [
        {
          "output_type": "stream",
          "text": [
            "(60000, 28, 28, 1)\n",
            "(10000, 28, 28, 1)\n"
          ],
          "name": "stdout"
        }
      ]
    },
    {
      "cell_type": "code",
      "metadata": {
        "colab": {
          "base_uri": "https://localhost:8080/"
        },
        "id": "oJ5tkj932kM7",
        "outputId": "055263bd-4e35-455a-faa9-d6c9ba03f991"
      },
      "source": [
        "print(x_train_mnist[0,6,12])\n",
        "print(x_train_cifar10[0,6,12])"
      ],
      "execution_count": 39,
      "outputs": [
        {
          "output_type": "stream",
          "text": [
            "[170]\n",
            "[107  71  34]\n"
          ],
          "name": "stdout"
        }
      ]
    },
    {
      "cell_type": "markdown",
      "metadata": {
        "id": "qGozNFSZ2qcd"
      },
      "source": [
        "I pixel in entrambe le immagini sono rappresentate con un valore intero tra 0 e 255, bisogna convertire i pixel in modo tale che abbiano un valore appartenente ad un range tra 0 e 1."
      ]
    },
    {
      "cell_type": "code",
      "metadata": {
        "id": "QwPlxFa03SV_"
      },
      "source": [
        "x_train_mnist = x_train_mnist.astype('float32')/255.0\n",
        "x_test_mnist = x_test_mnist.astype('float32')/255.0\n",
        "x_train_cifar10 = x_train_cifar10.astype('float32')/255.0\n",
        "x_test_cifar10 = x_test_cifar10.astype('float32')/255.0"
      ],
      "execution_count": 40,
      "outputs": []
    },
    {
      "cell_type": "markdown",
      "metadata": {
        "id": "9fcDqAd536UC"
      },
      "source": [
        "Aspetto dell'output"
      ]
    },
    {
      "cell_type": "code",
      "metadata": {
        "colab": {
          "base_uri": "https://localhost:8080/"
        },
        "id": "HrASELSt35TN",
        "outputId": "dd90854b-84f4-4a6b-c921-3a6054984c3f"
      },
      "source": [
        "print(y_train_mnist.shape)\n",
        "print(y_train_mnist[0])\n",
        "print(y_train_cifar10.shape)\n",
        "print(y_train_cifar10[0])"
      ],
      "execution_count": 41,
      "outputs": [
        {
          "output_type": "stream",
          "text": [
            "(60000,)\n",
            "5\n",
            "(50000, 1)\n",
            "[6]\n"
          ],
          "name": "stdout"
        }
      ]
    },
    {
      "cell_type": "markdown",
      "metadata": {
        "id": "AZSqf4od4EkB"
      },
      "source": [
        "Le classi devono essere passate in forma one-hot-encoding"
      ]
    },
    {
      "cell_type": "code",
      "metadata": {
        "id": "ePPkhiFn5iKt"
      },
      "source": [
        "num_classes = 10\n",
        "yc_train_mnist = keras.utils.to_categorical(y_train_mnist, num_classes)\n",
        "yc_test_mnist = keras.utils.to_categorical(y_test_mnist, num_classes)\n",
        "yc_train_cifar10 = keras.utils.to_categorical(y_train_cifar10, num_classes)\n",
        "yc_test_cifar10 = keras.utils.to_categorical(y_test_cifar10, num_classes)"
      ],
      "execution_count": 42,
      "outputs": []
    },
    {
      "cell_type": "code",
      "metadata": {
        "colab": {
          "base_uri": "https://localhost:8080/"
        },
        "id": "lrqgnb8K551j",
        "outputId": "d660df38-31bb-418d-95d2-a802347605f2"
      },
      "source": [
        "print(yc_train_mnist[0])\n",
        "print(yc_train_cifar10[0])"
      ],
      "execution_count": 43,
      "outputs": [
        {
          "output_type": "stream",
          "text": [
            "[0. 0. 0. 0. 0. 1. 0. 0. 0. 0.]\n",
            "[0. 0. 0. 0. 0. 0. 1. 0. 0. 0.]\n"
          ],
          "name": "stdout"
        }
      ]
    },
    {
      "cell_type": "markdown",
      "metadata": {
        "id": "3yo1s7iqDuEo"
      },
      "source": [
        "# Primo modello: MNIST"
      ]
    },
    {
      "cell_type": "code",
      "metadata": {
        "id": "jQ3EtqRJDs2Q"
      },
      "source": [
        "model = keras.Sequential()\n",
        "model.add(keras.Input((28,28,1)))\n",
        "model.add(layers.Conv2D(32, kernel_size=(3, 3), activation=\"relu\"))\n",
        "model.add(layers.MaxPooling2D(pool_size=(2, 2)))\n",
        "model.add(layers.Flatten())\n",
        "model.add(layers.Dense(128, activation='relu'))\n",
        "model.add(layers.Dense(num_classes, activation='softmax'))"
      ],
      "execution_count": 44,
      "outputs": []
    },
    {
      "cell_type": "code",
      "metadata": {
        "colab": {
          "base_uri": "https://localhost:8080/"
        },
        "id": "kycguWtKEzvM",
        "outputId": "210c2e42-c601-4e4b-c30a-8b249aac86b2"
      },
      "source": [
        "model.summary()"
      ],
      "execution_count": 45,
      "outputs": [
        {
          "output_type": "stream",
          "text": [
            "Model: \"sequential_3\"\n",
            "_________________________________________________________________\n",
            "Layer (type)                 Output Shape              Param #   \n",
            "=================================================================\n",
            "conv2d_3 (Conv2D)            (None, 26, 26, 32)        320       \n",
            "_________________________________________________________________\n",
            "max_pooling2d_3 (MaxPooling2 (None, 13, 13, 32)        0         \n",
            "_________________________________________________________________\n",
            "flatten_3 (Flatten)          (None, 5408)              0         \n",
            "_________________________________________________________________\n",
            "dense_6 (Dense)              (None, 128)               692352    \n",
            "_________________________________________________________________\n",
            "dense_7 (Dense)              (None, 10)                1290      \n",
            "=================================================================\n",
            "Total params: 693,962\n",
            "Trainable params: 693,962\n",
            "Non-trainable params: 0\n",
            "_________________________________________________________________\n"
          ],
          "name": "stdout"
        }
      ]
    },
    {
      "cell_type": "code",
      "metadata": {
        "id": "je4ix0YSEyMJ"
      },
      "source": [
        "model.compile(loss=keras.losses.categorical_crossentropy,\n",
        "              optimizer=keras.optimizers.Adamax(),\n",
        "              metrics=['accuracy'])"
      ],
      "execution_count": 46,
      "outputs": []
    },
    {
      "cell_type": "markdown",
      "metadata": {
        "id": "5oExv3QGJgqC"
      },
      "source": [
        "Utilizzo come validation test il 20% del train set"
      ]
    },
    {
      "cell_type": "code",
      "metadata": {
        "colab": {
          "base_uri": "https://localhost:8080/"
        },
        "id": "1SeR4vbME94n",
        "outputId": "893a8e67-c8c8-43f1-8074-89a4ad01f00e"
      },
      "source": [
        "history_mnist=model.fit(x_train_mnist, yc_train_mnist, batch_size=128, epochs=10,verbose=1,validation_split=0.2);"
      ],
      "execution_count": 47,
      "outputs": [
        {
          "output_type": "stream",
          "text": [
            "Epoch 1/10\n",
            "375/375 [==============================] - 2s 5ms/step - loss: 0.6182 - accuracy: 0.8327 - val_loss: 0.1750 - val_accuracy: 0.9547\n",
            "Epoch 2/10\n",
            "375/375 [==============================] - 1s 4ms/step - loss: 0.1570 - accuracy: 0.9554 - val_loss: 0.1114 - val_accuracy: 0.9702\n",
            "Epoch 3/10\n",
            "375/375 [==============================] - 1s 4ms/step - loss: 0.1062 - accuracy: 0.9703 - val_loss: 0.0943 - val_accuracy: 0.9747\n",
            "Epoch 4/10\n",
            "375/375 [==============================] - 1s 4ms/step - loss: 0.0802 - accuracy: 0.9784 - val_loss: 0.0742 - val_accuracy: 0.9786\n",
            "Epoch 5/10\n",
            "375/375 [==============================] - 1s 4ms/step - loss: 0.0640 - accuracy: 0.9816 - val_loss: 0.0736 - val_accuracy: 0.9791\n",
            "Epoch 6/10\n",
            "375/375 [==============================] - 1s 4ms/step - loss: 0.0545 - accuracy: 0.9847 - val_loss: 0.0661 - val_accuracy: 0.9796\n",
            "Epoch 7/10\n",
            "375/375 [==============================] - 1s 4ms/step - loss: 0.0459 - accuracy: 0.9873 - val_loss: 0.0631 - val_accuracy: 0.9823\n",
            "Epoch 8/10\n",
            "375/375 [==============================] - 1s 4ms/step - loss: 0.0411 - accuracy: 0.9886 - val_loss: 0.0564 - val_accuracy: 0.9833\n",
            "Epoch 9/10\n",
            "375/375 [==============================] - 1s 4ms/step - loss: 0.0373 - accuracy: 0.9898 - val_loss: 0.0587 - val_accuracy: 0.9832\n",
            "Epoch 10/10\n",
            "375/375 [==============================] - 1s 4ms/step - loss: 0.0323 - accuracy: 0.9905 - val_loss: 0.0573 - val_accuracy: 0.9835\n"
          ],
          "name": "stdout"
        }
      ]
    },
    {
      "cell_type": "code",
      "metadata": {
        "colab": {
          "base_uri": "https://localhost:8080/",
          "height": 541
        },
        "id": "YOqTDYYZFU3M",
        "outputId": "712744e8-ff68-4a0f-b5db-316fddf7a4b6"
      },
      "source": [
        "def plot_graphs(history, string):\n",
        "  plt.plot(history.history[string])\n",
        "  plt.plot(history.history['val_'+string])\n",
        "  plt.xlabel(\"Epochs\")\n",
        "  plt.ylabel(string)\n",
        "  plt.legend([string, 'val_'+string])\n",
        "  plt.show()\n",
        "\n",
        "plot_graphs(history_mnist, \"accuracy\")  \n",
        "plot_graphs(history_mnist, \"loss\")"
      ],
      "execution_count": 48,
      "outputs": [
        {
          "output_type": "display_data",
          "data": {
            "image/png": "[encoded data removed]",
            "text/plain": [
              "<Figure size 432x288 with 1 Axes>"
            ]
          },
          "metadata": {
            "tags": [],
            "needs_background": "light"
          }
        },
        {
          "output_type": "display_data",
          "data": {
            "image/png": "[encoded data removed]",
            "text/plain": [
              "<Figure size 432x288 with 1 Axes>"
            ]
          },
          "metadata": {
            "tags": [],
            "needs_background": "light"
          }
        }
      ]
    },
    {
      "cell_type": "markdown",
      "metadata": {
        "id": "HjcUQEaBF_5v"
      },
      "source": [
        "Valutazione"
      ]
    },
    {
      "cell_type": "code",
      "metadata": {
        "colab": {
          "base_uri": "https://localhost:8080/"
        },
        "id": "H03gdE-xF8aK",
        "outputId": "fa5e9d41-5a1b-4e95-c955-2f5756b99f1e"
      },
      "source": [
        "score = model.evaluate(x_test_mnist, yc_test_mnist, verbose=0)\n",
        "print('Test loss:', score[0])\n",
        "print('Test accuracy:', score[1])"
      ],
      "execution_count": 49,
      "outputs": [
        {
          "output_type": "stream",
          "text": [
            "Test loss: 0.04697408899664879\n",
            "Test accuracy: 0.9837999939918518\n"
          ],
          "name": "stdout"
        }
      ]
    },
    {
      "cell_type": "markdown",
      "metadata": {
        "id": "H795fiUeG2Gf"
      },
      "source": [
        "## Classification report e confusion matrix sul dataset MNIST"
      ]
    },
    {
      "cell_type": "code",
      "metadata": {
        "colab": {
          "base_uri": "https://localhost:8080/",
          "height": 605
        },
        "id": "FD_xzVzKGHZ3",
        "outputId": "eebd8d74-1e9a-40e1-ac60-b06fc543ba36"
      },
      "source": [
        "yc_pred_mnist = model.predict(x_test_mnist)\n",
        "y_pred_mnist = np.argmax(yc_pred_mnist, axis=1)\n",
        "print('Classification report:')\n",
        "print(classification_report(y_test_mnist, y_pred_mnist))\n",
        "\n",
        "print('Confusion matrix:')\n",
        "cm = confusion_matrix(y_test_mnist, y_pred_mnist)\n",
        "plt.imshow(cm, cmap=plt.cm.Blues)"
      ],
      "execution_count": 50,
      "outputs": [
        {
          "output_type": "stream",
          "text": [
            "Classification report:\n",
            "              precision    recall  f1-score   support\n",
            "\n",
            "           0       0.98      0.99      0.99       980\n",
            "           1       0.98      1.00      0.99      1135\n",
            "           2       0.99      0.98      0.98      1032\n",
            "           3       0.99      0.99      0.99      1010\n",
            "           4       0.99      0.99      0.99       982\n",
            "           5       0.99      0.98      0.99       892\n",
            "           6       0.99      0.98      0.99       958\n",
            "           7       0.99      0.97      0.98      1028\n",
            "           8       0.97      0.99      0.98       974\n",
            "           9       0.99      0.97      0.98      1009\n",
            "\n",
            "    accuracy                           0.98     10000\n",
            "   macro avg       0.98      0.98      0.98     10000\n",
            "weighted avg       0.98      0.98      0.98     10000\n",
            "\n",
            "Confusion matrix:\n"
          ],
          "name": "stdout"
        },
        {
          "output_type": "execute_result",
          "data": {
            "text/plain": [
              "<matplotlib.image.AxesImage at 0x7fdd73106b38>"
            ]
          },
          "metadata": {
            "tags": []
          },
          "execution_count": 50
        },
        {
          "output_type": "display_data",
          "data": {
            "image/png": "[encoded data removed]",
            "text/plain": [
              "<Figure size 432x288 with 1 Axes>"
            ]
          },
          "metadata": {
            "tags": [],
            "needs_background": "light"
          }
        }
      ]
    },
    {
      "cell_type": "markdown",
      "metadata": {
        "id": "6cOYGlVkIWOG"
      },
      "source": [
        "In questo caso tutte le categorie vengono classificate con la loro vera classe."
      ]
    },
    {
      "cell_type": "markdown",
      "metadata": {
        "id": "R5M1Jp48HMUQ"
      },
      "source": [
        "# Secondo modello: CIFAR10"
      ]
    },
    {
      "cell_type": "code",
      "metadata": {
        "id": "hIRLOwsTHQ2b"
      },
      "source": [
        "model = keras.Sequential()\n",
        "model.add(keras.Input((32,32,3)))\n",
        "model.add(layers.Conv2D(32, kernel_size=(3, 3), activation=\"relu\"))\n",
        "model.add(layers.MaxPooling2D(pool_size=(2, 2)))\n",
        "model.add(layers.Flatten())\n",
        "model.add(layers.Dense(128, activation='relu'))\n",
        "model.add(layers.Dense(num_classes, activation='softmax'))"
      ],
      "execution_count": 51,
      "outputs": []
    },
    {
      "cell_type": "code",
      "metadata": {
        "colab": {
          "base_uri": "https://localhost:8080/"
        },
        "id": "s8vZB4KZHgaY",
        "outputId": "abdf27df-d7c5-4033-e8f0-ac3b21eaa8a6"
      },
      "source": [
        "model.summary()"
      ],
      "execution_count": 52,
      "outputs": [
        {
          "output_type": "stream",
          "text": [
            "Model: \"sequential_4\"\n",
            "_________________________________________________________________\n",
            "Layer (type)                 Output Shape              Param #   \n",
            "=================================================================\n",
            "conv2d_4 (Conv2D)            (None, 30, 30, 32)        896       \n",
            "_________________________________________________________________\n",
            "max_pooling2d_4 (MaxPooling2 (None, 15, 15, 32)        0         \n",
            "_________________________________________________________________\n",
            "flatten_4 (Flatten)          (None, 7200)              0         \n",
            "_________________________________________________________________\n",
            "dense_8 (Dense)              (None, 128)               921728    \n",
            "_________________________________________________________________\n",
            "dense_9 (Dense)              (None, 10)                1290      \n",
            "=================================================================\n",
            "Total params: 923,914\n",
            "Trainable params: 923,914\n",
            "Non-trainable params: 0\n",
            "_________________________________________________________________\n"
          ],
          "name": "stdout"
        }
      ]
    },
    {
      "cell_type": "code",
      "metadata": {
        "id": "BAlJZAPvHj6Q"
      },
      "source": [
        "model.compile(loss=keras.losses.categorical_crossentropy,\n",
        "              optimizer=keras.optimizers.Adamax(),\n",
        "              metrics=['accuracy'])"
      ],
      "execution_count": 53,
      "outputs": []
    },
    {
      "cell_type": "markdown",
      "metadata": {
        "id": "MYTa74dEJl8q"
      },
      "source": [
        "Utilizzo come validation test il 20% del train set"
      ]
    },
    {
      "cell_type": "code",
      "metadata": {
        "colab": {
          "base_uri": "https://localhost:8080/"
        },
        "id": "EG7STHQ3Hn3c",
        "outputId": "f62f9b81-88d8-4313-9b1f-7cde80bc604b"
      },
      "source": [
        "history_cifar10=model.fit(x_train_cifar10, yc_train_cifar10, batch_size=128, epochs=10,verbose=1,validation_split=0.2);"
      ],
      "execution_count": 54,
      "outputs": [
        {
          "output_type": "stream",
          "text": [
            "Epoch 1/10\n",
            "313/313 [==============================] - 2s 6ms/step - loss: 2.0158 - accuracy: 0.2874 - val_loss: 1.5974 - val_accuracy: 0.4491\n",
            "Epoch 2/10\n",
            "313/313 [==============================] - 1s 5ms/step - loss: 1.5234 - accuracy: 0.4721 - val_loss: 1.4348 - val_accuracy: 0.5022\n",
            "Epoch 3/10\n",
            "313/313 [==============================] - 1s 5ms/step - loss: 1.3814 - accuracy: 0.5166 - val_loss: 1.3504 - val_accuracy: 0.5280\n",
            "Epoch 4/10\n",
            "313/313 [==============================] - 1s 5ms/step - loss: 1.2902 - accuracy: 0.5498 - val_loss: 1.2919 - val_accuracy: 0.5522\n",
            "Epoch 5/10\n",
            "313/313 [==============================] - 1s 5ms/step - loss: 1.2282 - accuracy: 0.5750 - val_loss: 1.2448 - val_accuracy: 0.5700\n",
            "Epoch 6/10\n",
            "313/313 [==============================] - 1s 5ms/step - loss: 1.1720 - accuracy: 0.5901 - val_loss: 1.2074 - val_accuracy: 0.5853\n",
            "Epoch 7/10\n",
            "313/313 [==============================] - 1s 5ms/step - loss: 1.1391 - accuracy: 0.6045 - val_loss: 1.1958 - val_accuracy: 0.5830\n",
            "Epoch 8/10\n",
            "313/313 [==============================] - 1s 5ms/step - loss: 1.1082 - accuracy: 0.6161 - val_loss: 1.1777 - val_accuracy: 0.5971\n",
            "Epoch 9/10\n",
            "313/313 [==============================] - 1s 5ms/step - loss: 1.0712 - accuracy: 0.6273 - val_loss: 1.1651 - val_accuracy: 0.5933\n",
            "Epoch 10/10\n",
            "313/313 [==============================] - 1s 5ms/step - loss: 1.0476 - accuracy: 0.6408 - val_loss: 1.1448 - val_accuracy: 0.6031\n"
          ],
          "name": "stdout"
        }
      ]
    },
    {
      "cell_type": "code",
      "metadata": {
        "colab": {
          "base_uri": "https://localhost:8080/",
          "height": 541
        },
        "id": "Q0Zc8EKuH5r6",
        "outputId": "bc1696bc-ddfa-4c51-d33e-903126761bd0"
      },
      "source": [
        "plot_graphs(history_cifar10, \"accuracy\")  \n",
        "plot_graphs(history_cifar10, \"loss\")"
      ],
      "execution_count": 55,
      "outputs": [
        {
          "output_type": "display_data",
          "data": {
            "image/png": "[encoded data removed]",
            "text/plain": [
              "<Figure size 432x288 with 1 Axes>"
            ]
          },
          "metadata": {
            "tags": [],
            "needs_background": "light"
          }
        },
        {
          "output_type": "display_data",
          "data": {
            "image/png": "[encoded data removed]",
            "text/plain": [
              "<Figure size 432x288 with 1 Axes>"
            ]
          },
          "metadata": {
            "tags": [],
            "needs_background": "light"
          }
        }
      ]
    },
    {
      "cell_type": "markdown",
      "metadata": {
        "id": "dnCx_x3zIDuF"
      },
      "source": [
        "Valutazione"
      ]
    },
    {
      "cell_type": "code",
      "metadata": {
        "colab": {
          "base_uri": "https://localhost:8080/"
        },
        "id": "JtmhCdcqIAuv",
        "outputId": "04314d23-c263-4d00-a350-d9e79e3160c5"
      },
      "source": [
        "score = model.evaluate(x_test_cifar10, yc_test_cifar10, verbose=0)\n",
        "print('Test loss:', score[0])\n",
        "print('Test accuracy:', score[1])"
      ],
      "execution_count": 56,
      "outputs": [
        {
          "output_type": "stream",
          "text": [
            "Test loss: 1.1339038610458374\n",
            "Test accuracy: 0.5978999733924866\n"
          ],
          "name": "stdout"
        }
      ]
    },
    {
      "cell_type": "markdown",
      "metadata": {
        "id": "7aMfEe7MIHWt"
      },
      "source": [
        "## Classification report e confusion matrix sul dataset CIFAR10"
      ]
    },
    {
      "cell_type": "code",
      "metadata": {
        "colab": {
          "base_uri": "https://localhost:8080/",
          "height": 605
        },
        "id": "MTL8rj9OIIqQ",
        "outputId": "d54f8a00-b300-453f-e900-e501bb3e3204"
      },
      "source": [
        "yc_pred_cifar10 = model.predict(x_test_cifar10)\n",
        "y_pred_cifar10 = np.argmax(yc_pred_cifar10, axis=1)\n",
        "print('Classification report:')\n",
        "print(classification_report(y_test_cifar10, y_pred_cifar10))\n",
        "\n",
        "\n",
        "print('Confusion matrix:')\n",
        "cm = confusion_matrix(y_test_cifar10, y_pred_cifar10)\n",
        "plt.imshow(cm, cmap=plt.cm.Blues)"
      ],
      "execution_count": 57,
      "outputs": [
        {
          "output_type": "stream",
          "text": [
            "Classification report:\n",
            "              precision    recall  f1-score   support\n",
            "\n",
            "           0       0.65      0.67      0.66      1000\n",
            "           1       0.72      0.73      0.72      1000\n",
            "           2       0.43      0.53      0.48      1000\n",
            "           3       0.37      0.55      0.44      1000\n",
            "           4       0.63      0.41      0.49      1000\n",
            "           5       0.53      0.49      0.51      1000\n",
            "           6       0.80      0.58      0.67      1000\n",
            "           7       0.68      0.67      0.68      1000\n",
            "           8       0.75      0.69      0.72      1000\n",
            "           9       0.65      0.66      0.66      1000\n",
            "\n",
            "    accuracy                           0.60     10000\n",
            "   macro avg       0.62      0.60      0.60     10000\n",
            "weighted avg       0.62      0.60      0.60     10000\n",
            "\n",
            "Confusion matrix:\n"
          ],
          "name": "stdout"
        },
        {
          "output_type": "execute_result",
          "data": {
            "text/plain": [
              "<matplotlib.image.AxesImage at 0x7fdd66b1a3c8>"
            ]
          },
          "metadata": {
            "tags": []
          },
          "execution_count": 57
        },
        {
          "output_type": "display_data",
          "data": {
            "image/png": "[encoded data removed]",
            "text/plain": [
              "<Figure size 432x288 with 1 Axes>"
            ]
          },
          "metadata": {
            "tags": [],
            "needs_background": "light"
          }
        }
      ]
    },
    {
      "cell_type": "markdown",
      "metadata": {
        "id": "WiDKDxojIesV"
      },
      "source": [
        "È visibile da questo grafico come la classe 4 sia quella classificata peggio."
      ]
    }
  ]
}